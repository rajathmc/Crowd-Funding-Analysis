{
  "cells": [
    {
      "metadata": {
        "_cell_guid": "b1076dfc-b9ad-4769-8c92-a6c4dae69d19",
        "_uuid": "8f2839f25d086af736a60e9eeb907d3b93b6e0e5",
        "trusted": false,
        "collapsed": true
      },
      "cell_type": "code",
      "source": "import numpy as np # linear algebra\nimport pandas as pd # data processing, CSV file I/O (e.g. pd.read_csv)\nimport matplotlib\nimport matplotlib.pyplot as plt\nimport seaborn as sns\ncolor = sns.color_palette()\nimport plotly.offline as py\npy.init_notebook_mode(connected=True)\nimport plotly.graph_objs as go\nimport plotly.offline as offline\noffline.init_notebook_mode()\nimport plotly.tools as tls\nimport squarify\nfrom mpl_toolkits.basemap import Basemap\nfrom numpy import array\nfrom matplotlib import cm\n\n# Supress unnecessary warnings so that presentation looks clean\nimport warnings\nwarnings.filterwarnings(\"ignore\")\n\n# Print all rows and columns\npd.set_option('display.max_columns', None)\npd.set_option('display.max_rows', None)",
      "execution_count": null,
      "outputs": []
    },
    {
      "metadata": {
        "_cell_guid": "79c7e3d0-c299-4dcb-8224-4455121ee9b0",
        "_uuid": "d629ff2d2480ee46fbb7e2d37f6b5fab8052498a",
        "trusted": false,
        "collapsed": true
      },
      "cell_type": "code",
      "source": "from subprocess import check_output\nprint(check_output([\"ls\", \"../input\"]).decode(\"utf8\"))",
      "execution_count": null,
      "outputs": []
    },
    {
      "metadata": {
        "_cell_guid": "e80159ae-5d2f-4130-a7c8-d4e7e516d77e",
        "_uuid": "3d2abe3570c52dbfef6a6ee46d98e7e019af364d",
        "trusted": false,
        "collapsed": true
      },
      "cell_type": "code",
      "source": "kiva_loans_data = pd.read_csv(\"../input/data-science-for-good-kiva-crowdfunding/kiva_loans.csv\")\nkiva_mpi_locations_data = pd.read_csv(\"../input/data-science-for-good-kiva-crowdfunding/kiva_mpi_region_locations.csv\")\nloan_theme_ids_data = pd.read_csv(\"../input/data-science-for-good-kiva-crowdfunding/loan_theme_ids.csv\")\nloan_themes_by_region_data = pd.read_csv(\"../input/data-science-for-good-kiva-crowdfunding/loan_themes_by_region.csv\")\n# Additional kiva snapshot data set\nloans_data = pd.read_csv(\"../input/additional-kiva-snapshot/loans.csv\")\nlenders_data = pd.read_csv(\"../input/additional-kiva-snapshot/lenders.csv\")\nloans_lenders_data = pd.read_csv(\"../input/additional-kiva-snapshot/loans_lenders.csv\")\ncountry_stats_data = pd.read_csv(\"../input/additional-kiva-snapshot/country_stats.csv\")\n#geconv4_data = pd.read_csv(\"../input/additional-kiva-snapshot/GEconV4.csv\")\n# Multidimensional Poverty Measures Data set\nmpi_national_data = pd.read_csv(\"../input/multidimensional-poverty-measures/MPI_national.csv\")\nmpi_subnational_data = pd.read_csv(\"../input/multidimensional-poverty-measures/MPI_subnational.csv\")",
      "execution_count": null,
      "outputs": []
    },
    {
      "metadata": {
        "_cell_guid": "fe4a54f3-fa0e-45c6-879a-a05943a1b225",
        "_uuid": "787d58afdaccad1739d7319a7b124fdf605e3d2e",
        "trusted": false,
        "collapsed": true
      },
      "cell_type": "code",
      "source": "print(\"Size of kiva_loans_data\",kiva_loans_data.shape)\nprint(\"Size of kiva_mpi_locations_data\",kiva_mpi_locations_data.shape)\nprint(\"Size of loan_theme_ids_data\",loan_theme_ids_data.shape)\nprint(\"Size of loan_themes_by_region_data\",loan_themes_by_region_data.shape)\nprint(\"***** Additional kiva snapshot******\")\nprint(\"Size of loans_data\",loans_data.shape)\nprint(\"Size of lenders_data\",lenders_data.shape)\nprint(\"Size of loans_lenders_data\",loans_lenders_data.shape)\nprint(\"Size of country_stats_data\",country_stats_data.shape)\n#print(\"Size of geconv4_data\",geconv4_data.shape)\nprint(\"*****Multidimensional Poverty Measures Data set******\")\nprint(\"Size of mpi_national_data\",mpi_national_data.shape)\nprint(\"Size of mpi_subnational_data\",mpi_subnational_data.shape)",
      "execution_count": null,
      "outputs": []
    },
    {
      "metadata": {
        "_cell_guid": "f8117c87-bd1e-4761-a5a2-d24606a9bf1d",
        "_uuid": "d4b17675b8294e68030987d979e01839553e8ec7",
        "trusted": false,
        "collapsed": true
      },
      "cell_type": "code",
      "source": "kiva_loans_data.head()",
      "execution_count": null,
      "outputs": []
    },
    {
      "metadata": {
        "_cell_guid": "21017801-c19e-4fb8-8b19-9baa3638f750",
        "_uuid": "49b4f9f8902bf862657919aea4156cdc4fe49c89",
        "trusted": false,
        "collapsed": true
      },
      "cell_type": "code",
      "source": "kiva_mpi_locations_data.head()",
      "execution_count": null,
      "outputs": []
    },
    {
      "metadata": {
        "_cell_guid": "d508f377-e94e-42b5-84a2-098f712e3979",
        "_uuid": "40af80d7522d31ca74c6104df4eef17956081884",
        "trusted": false,
        "collapsed": true
      },
      "cell_type": "code",
      "source": "loan_theme_ids_data.head()",
      "execution_count": null,
      "outputs": []
    },
    {
      "metadata": {
        "_cell_guid": "d0f39d73-dca8-4690-9fc1-d365d09375f9",
        "_uuid": "228aca4555a88e9b64567304ddad49fdbeb2a132",
        "trusted": false,
        "collapsed": true
      },
      "cell_type": "code",
      "source": "loan_themes_by_region_data.head()",
      "execution_count": null,
      "outputs": []
    },
    {
      "metadata": {
        "_cell_guid": "48f64c66-789d-4ec9-ba8b-be608bd53c87",
        "_uuid": "377e86da2f551a0deed8dafe1b0a3b6984a564c6",
        "trusted": false,
        "collapsed": true
      },
      "cell_type": "code",
      "source": "loans_data .head()",
      "execution_count": null,
      "outputs": []
    },
    {
      "metadata": {
        "_cell_guid": "7b0e7acf-6b28-40d2-9f33-cc627b307413",
        "_uuid": "18843003e3ff615ffc82ecae32ef68809eba4d09",
        "trusted": false,
        "collapsed": true
      },
      "cell_type": "code",
      "source": "lenders_data.head()",
      "execution_count": null,
      "outputs": []
    },
    {
      "metadata": {
        "_cell_guid": "277b61b8-0ba9-4500-baef-3a93d057a436",
        "_uuid": "bb17de60bb07636cb607ef0f25cdcda5f9e9dd08",
        "trusted": false,
        "collapsed": true
      },
      "cell_type": "code",
      "source": "loans_lenders_data.head()",
      "execution_count": null,
      "outputs": []
    },
    {
      "metadata": {
        "_cell_guid": "58f2ee13-af09-4bec-b2f5-2bbf16272cbd",
        "_uuid": "c55542027856c43d36e2821cb7d1bbbf20a1cb3b",
        "trusted": false,
        "collapsed": true
      },
      "cell_type": "code",
      "source": "country_stats_data.head() ",
      "execution_count": null,
      "outputs": []
    },
    {
      "metadata": {
        "_cell_guid": "5a86c03d-c028-4e46-85b2-b55a5d774717",
        "_uuid": "2d1cfc8bf710ffdd447fb746b8d0da05640e64de",
        "trusted": false,
        "collapsed": true
      },
      "cell_type": "code",
      "source": "mpi_national_data.head()",
      "execution_count": null,
      "outputs": []
    },
    {
      "metadata": {
        "_cell_guid": "c3aff89c-1a29-481b-85fc-d03ba215d6dc",
        "_uuid": "e851176911a816446e7018fcdea01e4f469ab70f",
        "trusted": false,
        "collapsed": true
      },
      "cell_type": "code",
      "source": "mpi_subnational_data.head()",
      "execution_count": null,
      "outputs": []
    },
    {
      "metadata": {
        "_cell_guid": "6b2a5f85-80de-47b7-bde9-9efe84bad1b6",
        "_uuid": "e58694aa049f8caccae9719388cbcf272cb01f5f",
        "trusted": false,
        "collapsed": true
      },
      "cell_type": "code",
      "source": "kiva_loans_data.info()",
      "execution_count": null,
      "outputs": []
    },
    {
      "metadata": {
        "_cell_guid": "ec4a62e8-a827-4a34-9ef6-6c7286d830a1",
        "_uuid": "f8d8a008c3b1b7d572c6baec61e2d0498121f3db",
        "trusted": false,
        "collapsed": true
      },
      "cell_type": "code",
      "source": "kiva_loans_data.describe()",
      "execution_count": null,
      "outputs": []
    },
    {
      "metadata": {
        "_cell_guid": "323626bc-fe5f-4ecf-ac83-fc6c630440aa",
        "_uuid": "bf41cc8969480754a704e0034af8d2b9f036c07b",
        "trusted": false,
        "collapsed": true
      },
      "cell_type": "code",
      "source": "kiva_loans_data.describe(include=[\"O\"])",
      "execution_count": null,
      "outputs": []
    },
    {
      "metadata": {
        "_cell_guid": "c63021f5-aaae-4604-80b8-a441a4ae3ab4",
        "_uuid": "796e2dfc223316e893ac850f8929c74965b1a685",
        "trusted": false,
        "collapsed": true
      },
      "cell_type": "code",
      "source": "# checking missing data in kiva_loans data \ntotal = kiva_loans_data.isnull().sum().sort_values(ascending = False)\npercent = (kiva_loans_data.isnull().sum()/kiva_loans_data.isnull().count()).sort_values(ascending = False)\nmissing_kiva_loans_data  = pd.concat([total, percent], axis=1, keys=['Total', 'Percent'])\nmissing_kiva_loans_data",
      "execution_count": null,
      "outputs": []
    },
    {
      "metadata": {
        "_cell_guid": "a7ce9f71-2324-4651-adea-0d35bf784c5e",
        "_uuid": "749776b62ab232d28643d76c942d1b60a1d3f849",
        "trusted": false,
        "collapsed": true
      },
      "cell_type": "code",
      "source": "# missing data in kiva_mpi_locations data \ntotal = kiva_mpi_locations_data.isnull().sum().sort_values(ascending = False)\npercent = (kiva_mpi_locations_data.isnull().sum()/kiva_mpi_locations_data.isnull().count()).sort_values(ascending = False)\nmissing_kiva_mpi_locations_data= pd.concat([total, percent], axis=1, keys=['Total', 'Percent'])\nmissing_kiva_mpi_locations_data",
      "execution_count": null,
      "outputs": []
    },
    {
      "metadata": {
        "_cell_guid": "15ad85c9-9ee7-4c4c-b238-b62009e6b077",
        "_uuid": "f3cbf801852b80bbcce356c1634d717f03102a5c",
        "trusted": false,
        "collapsed": true
      },
      "cell_type": "code",
      "source": "# missing data in loan_theme_ids data \ntotal = loan_theme_ids_data.isnull().sum().sort_values(ascending = False)\npercent = (loan_theme_ids_data.isnull().sum()/loan_theme_ids_data.isnull().count()).sort_values(ascending = False)\nmissing_loan_theme_ids_data= pd.concat([total, percent], axis=1, keys=['Total', 'Percent'])\nmissing_loan_theme_ids_data",
      "execution_count": null,
      "outputs": []
    },
    {
      "metadata": {
        "_cell_guid": "3c19097a-0540-4c97-8f4f-18d0306bcd6c",
        "_uuid": "2cba6cb5dce0b0776c2508fc43c4c2a8771689f0",
        "trusted": false,
        "collapsed": true
      },
      "cell_type": "code",
      "source": "# missing data in loan_themes_by_region data \ntotal = loan_themes_by_region_data.isnull().sum().sort_values(ascending = False)\npercent = (loan_themes_by_region_data.isnull().sum()/loan_themes_by_region_data.isnull().count()).sort_values(ascending = False)\nmissing_loan_themes_by_region_data= pd.concat([total, percent], axis=1, keys=['Total', 'Percent'])\nmissing_loan_themes_by_region_data",
      "execution_count": null,
      "outputs": []
    },
    {
      "metadata": {
        "_cell_guid": "bf5bbfdb-40db-4a8d-99b3-b62cb98a6ebe",
        "_uuid": "2f3df9d11dabd0f9463ce84a286f429fcead0659",
        "trusted": false,
        "collapsed": true
      },
      "cell_type": "code",
      "source": "# print(\"Top sectors in which more loans were given : \", len(kiva_loans_data[\"sector\"].unique()))\n# print(kiva_loans_data[\"sector\"].value_counts().head(10))\nplt.figure(figsize=(15,8))\nsector_name = kiva_loans_data['sector'].value_counts()\nsns.barplot(sector_name.values, sector_name.index)\nfor i, v in enumerate(sector_name.values):\n    plt.text(0.8,i,v,color='k',fontsize=19)\nplt.xticks(rotation='vertical')\nplt.xlabel('Sector Name')\nplt.ylabel('Number of loans were given')\nplt.title(\"Top sectors in which more loans were given\")\nplt.show()",
      "execution_count": null,
      "outputs": []
    },
    {
      "metadata": {
        "_cell_guid": "614fb8f6-9201-4ef3-9d87-ba8ab857ae08",
        "_uuid": "8bfc005188c4b9075f81a14481b98b2e47229d3e",
        "trusted": false,
        "collapsed": true
      },
      "cell_type": "code",
      "source": "plt.figure(figsize=(15,8))\ncount = kiva_loans_data['repayment_interval'].value_counts().head(10)\nsns.barplot(count.values, count.index, )\nfor i, v in enumerate(count.values):\n    plt.text(0.8,i,v,color='k',fontsize=19)\nplt.xlabel('Count', fontsize=12)\nplt.ylabel('Types of repayment interval', fontsize=12)\nplt.title(\"Types of repayment intervals with their count\", fontsize=16)",
      "execution_count": null,
      "outputs": []
    },
    {
      "metadata": {
        "_cell_guid": "0951f240-2e22-4f12-b5fc-0723c7ed9fc7",
        "_uuid": "20e733d981e179c18dfdbe96d6920ccbd96d4bd6",
        "trusted": false,
        "collapsed": true
      },
      "cell_type": "code",
      "source": "kiva_loans_data['repayment_interval'].value_counts().plot(kind=\"pie\",figsize=(12,12))",
      "execution_count": null,
      "outputs": []
    },
    {
      "metadata": {
        "_cell_guid": "2813fc8a-4c17-4f6a-9c42-c204ce4224a9",
        "_uuid": "3786e2f38ab9cbcdda4c9f537304e1a028276814",
        "trusted": false,
        "collapsed": true
      },
      "cell_type": "code",
      "source": "# Plot the most frequent countries\nplt.figure(figsize=(15,8))\ncount = kiva_loans_data['country'].value_counts().head(10)\nsns.barplot(count.values, count.index, )\nfor i, v in enumerate(count.values):\n    plt.text(0.8,i,v,color='k',fontsize=19)\nplt.xlabel('Count', fontsize=12)\nplt.ylabel('country name', fontsize=12)\nplt.title(\"Most frequent countries for kiva loan\", fontsize=16)",
      "execution_count": null,
      "outputs": []
    },
    {
      "metadata": {
        "_cell_guid": "f32e6095-33ba-4749-baa1-e85d45fd6270",
        "_uuid": "9044c22ea0f4bff546c2f745d94bc1e59542ec7f",
        "trusted": false,
        "collapsed": true
      },
      "cell_type": "code",
      "source": "kiva_loans_data.columns",
      "execution_count": null,
      "outputs": []
    },
    {
      "metadata": {
        "_cell_guid": "e3f2d263-b7f2-4cd6-a423-dadbc219a196",
        "_uuid": "1879aa1d000904d4c5a19028900fae9f2ce98e23",
        "trusted": false,
        "collapsed": true
      },
      "cell_type": "code",
      "source": "# Distribution of funded anount\nplt.figure(figsize = (12, 8))\n\nsns.distplot(kiva_loans_data['funded_amount'])\nplt.show() \nplt.figure(figsize = (12, 8))\nplt.scatter(range(kiva_loans_data.shape[0]), np.sort(kiva_loans_data.funded_amount.values))\nplt.xlabel('index', fontsize=12)\nplt.ylabel('loan_amount', fontsize=12)\nplt.title(\"Loan Amount Distribution\")\nplt.show()",
      "execution_count": null,
      "outputs": []
    },
    {
      "metadata": {
        "_cell_guid": "47f2dd25-8dd9-4710-9eae-edb8bdb57f8b",
        "_uuid": "b646e92ae7e0fce044ab899199fbaa3619a17230",
        "trusted": false,
        "collapsed": true
      },
      "cell_type": "code",
      "source": "# Distribution of loan amount\nplt.figure(figsize = (12, 8))\n\nsns.distplot(kiva_loans_data['loan_amount'])\nplt.show()\nplt.figure(figsize = (12, 8))\n\nplt.scatter(range(kiva_loans_data.shape[0]), np.sort(kiva_loans_data.loan_amount.values))\nplt.xlabel('index', fontsize=12)\nplt.ylabel('loan_amount', fontsize=12)\nplt.title(\"Loan Amount Distribution\")\nplt.show()",
      "execution_count": null,
      "outputs": []
    },
    {
      "metadata": {
        "_cell_guid": "deaabab2-4932-4dc7-8216-9f6418002e32",
        "_uuid": "e87e69c3ba91222d5f6cb4335689c9a62c099a0f",
        "trusted": false,
        "collapsed": true
      },
      "cell_type": "code",
      "source": "kiva_mpi_locations_data.columns",
      "execution_count": null,
      "outputs": []
    },
    {
      "metadata": {
        "_cell_guid": "681c3cef-d813-40a7-b05e-f0086af82247",
        "_uuid": "08ded086f25e72569aa3fe0a16c722b36ff81154",
        "trusted": false,
        "collapsed": true
      },
      "cell_type": "code",
      "source": "# Distribution of world regions\nplt.figure(figsize=(15,8))\ncount = kiva_mpi_locations_data['world_region'].value_counts()\nsns.barplot(count.values, count.index, )\nfor i, v in enumerate(count.values):\n    plt.text(0.8,i,v,color='k',fontsize=19)\nplt.xlabel('Count', fontsize=12)\nplt.ylabel('world region name', fontsize=12)\nplt.title(\"Distribution of world regions\", fontsize=16)",
      "execution_count": null,
      "outputs": []
    },
    {
      "metadata": {
        "_cell_guid": "6ec06349-a250-4442-b2e5-bd9610e8128f",
        "_uuid": "8d7b0337b752088b8fb56f64df81a60709ba4800",
        "trusted": false,
        "collapsed": true
      },
      "cell_type": "code",
      "source": "#Distribution of lender count(Number of lenders contributing to loan)\nprint(\"Number of lenders contributing to loan : \", len(kiva_loans_data[\"lender_count\"].unique()))\nprint(kiva_loans_data[\"lender_count\"].value_counts().head(10))\nlender = kiva_loans_data['lender_count'].value_counts().head(40)\nplt.figure(figsize=(15,8))\nsns.barplot(lender.index, lender.values, alpha=0.9, color=color[0])\nplt.xticks(rotation='vertical')\nplt.xlabel('lender count(Number of lenders contributing to loan)', fontsize=12)\nplt.ylabel('count', fontsize=12)\nplt.title(\"Distribution of lender count\", fontsize=16)\nplt.show()",
      "execution_count": null,
      "outputs": []
    },
    {
      "metadata": {
        "_cell_guid": "1d570ed7-8425-431f-ae39-bd7dfefd82fb",
        "_uuid": "a13f02dd3c9471e591e3ea62ab528a1d92454bc5",
        "trusted": false,
        "collapsed": true
      },
      "cell_type": "code",
      "source": "#Distribution of Loan Activity type\n\nplt.figure(figsize=(15,8))\ncount = kiva_loans_data['activity'].value_counts().head(30)\nsns.barplot(count.values, count.index)\nfor i, v in enumerate(count.values):\n    plt.text(0.8,i,v,color='k',fontsize=12)\nplt.xlabel('Count', fontsize=12)\nplt.ylabel('Activity name?', fontsize=12)\nplt.title(\"Top Loan Activity type\", fontsize=16)",
      "execution_count": null,
      "outputs": []
    },
    {
      "metadata": {
        "_cell_guid": "56f67197-7bfc-46c7-9861-9a5f59343d09",
        "_uuid": "52bbf1ccd2193bfd388d52c9338ba88c8e2bedde",
        "trusted": false,
        "collapsed": true
      },
      "cell_type": "code",
      "source": "#Distribution of Number of months over which loan was scheduled to be paid back\nprint(\"Number of months over which loan was scheduled to be paid back : \", len(kiva_loans_data[\"term_in_months\"].unique()))\nprint(kiva_loans_data[\"term_in_months\"].value_counts().head(10))\nlender = kiva_loans_data['term_in_months'].value_counts().head(70)\nplt.figure(figsize=(15,8))\nsns.barplot(lender.index, lender.values, alpha=0.9, color=color[0])\nplt.xticks(rotation='vertical')\nplt.xlabel('Number of months over which loan was scheduled to be paid back', fontsize=12)\nplt.ylabel('count', fontsize=12)\nplt.title(\"Distribution of Number of months over which loan was scheduled to be paid back\", fontsize=16)\nplt.show()",
      "execution_count": null,
      "outputs": []
    },
    {
      "metadata": {
        "_cell_guid": "d46ee289-b976-49ab-b50c-80864a1db2c8",
        "_uuid": "ee34869ffe7444478a34d8efc78e80516fd74586",
        "trusted": false,
        "collapsed": true
      },
      "cell_type": "code",
      "source": "plt.figure(figsize=(15,8))\ncount = kiva_loans_data['sector'].value_counts()\nsquarify.plot(sizes=count.values,label=count.index, value=count.values)\nplt.title('Distribution of sectors')",
      "execution_count": null,
      "outputs": []
    },
    {
      "metadata": {
        "_cell_guid": "cf4d6e45-4b51-4779-8307-8a268f782abc",
        "_uuid": "5605ac600979324b4fbaab6db78881fe836c71c9",
        "trusted": false,
        "collapsed": true
      },
      "cell_type": "code",
      "source": "plt.figure(figsize=(15,8))\ncount = kiva_loans_data['activity'].value_counts()\nsquarify.plot(sizes=count.values,label=count.index, value=count.values)\nplt.title('Distribution of Activities')",
      "execution_count": null,
      "outputs": []
    },
    {
      "metadata": {
        "_cell_guid": "f6d67d41-e035-4a1d-955c-811a77ce6776",
        "_uuid": "3256ca90bcf46c3e89cbfea23ac5b671ab97436f",
        "trusted": false,
        "collapsed": true
      },
      "cell_type": "code",
      "source": "plt.figure(figsize=(15,8))\ncount = kiva_loans_data['repayment_interval'].value_counts()\nsquarify.plot(sizes=count.values,label=count.index, value=count.values)\nplt.title('Distribution of repayment_interval')",
      "execution_count": null,
      "outputs": []
    },
    {
      "metadata": {
        "_cell_guid": "c3728df9-fa59-4677-9338-1e6877756c99",
        "_uuid": "8dd1f5039ea55b71ed7aa0f835f2f46e670bd288",
        "trusted": false,
        "collapsed": true
      },
      "cell_type": "code",
      "source": "plt.figure(figsize=(15,8))\ncount = kiva_loans_data['use'].value_counts().head(10)\nsns.barplot(count.values, count.index, )\nfor i, v in enumerate(count.values):\n    plt.text(0.8,i,v,color='k',fontsize=19)\nplt.xlabel('Count', fontsize=12)\nplt.ylabel('uses of loans', fontsize=12)\nplt.title(\"Most popular uses of loans\", fontsize=16)",
      "execution_count": null,
      "outputs": []
    },
    {
      "metadata": {
        "_cell_guid": "d13dd75c-d0de-4275-ac88-2c7e1f51d174",
        "_uuid": "df788f19e27884df3e69494f51a26e76f78fb381",
        "trusted": false,
        "collapsed": true
      },
      "cell_type": "code",
      "source": "gender_list = []\nfor gender in kiva_loans_data[\"borrower_genders\"].values:\n    if str(gender) != \"nan\":\n        gender_list.extend( [lst.strip() for lst in gender.split(\",\")] )\ntemp_data = pd.Series(gender_list).value_counts()\n\nlabels = (np.array(temp_data.index))\nsizes = (np.array((temp_data / temp_data.sum())*100))\nplt.figure(figsize=(15,8))\n\ntrace = go.Pie(labels=labels, values=sizes)\nlayout = go.Layout(title='Borrower Gender')\ndata = [trace]\nfig = go.Figure(data=data, layout=layout)\npy.iplot(fig, filename=\"BorrowerGender\")",
      "execution_count": null,
      "outputs": []
    },
    {
      "metadata": {
        "_cell_guid": "ce4ff954-42c1-406d-93fd-4cc1bea77ec8",
        "_uuid": "5f596ecc5e88438981550b4ba55078d912db61bd",
        "trusted": false,
        "collapsed": true
      },
      "cell_type": "code",
      "source": "kiva_loans_data.borrower_genders = kiva_loans_data.borrower_genders.astype(str)\ngender_data = pd.DataFrame(kiva_loans_data.borrower_genders.str.split(',').tolist())\nkiva_loans_data['sex_borrowers'] = gender_data[0]\nkiva_loans_data.loc[kiva_loans_data.sex_borrowers == 'nan', 'sex_borrowers'] = np.nan\nsex_mean = pd.DataFrame(kiva_loans_data.groupby(['sex_borrowers'])['funded_amount'].mean().sort_values(ascending=False)).reset_index()\nprint(sex_mean)\ng1 = sns.barplot(x='sex_borrowers', y='funded_amount', data=sex_mean)\ng1.set_title(\"Mean funded Amount by Gender \", fontsize=15)\ng1.set_xlabel(\"Gender\")\ng1.set_ylabel(\"Average funded Amount(US)\", fontsize=12)",
      "execution_count": null,
      "outputs": []
    },
    {
      "metadata": {
        "_cell_guid": "a1e4e9ee-461d-4660-bcc4-815845994e94",
        "_uuid": "08634d9650f8fc73fe0c72a247dde9b4568be0a9",
        "trusted": false,
        "collapsed": true
      },
      "cell_type": "code",
      "source": "f, ax = plt.subplots(figsize=(15, 5))\nprint(\"Genders count with repayment interval monthly\\n\",kiva_loans_data['sex_borrowers'][kiva_loans_data['repayment_interval'] == 'monthly'].value_counts())\nprint(\"Genders count with repayment interval weekly\\n\",kiva_loans_data['sex_borrowers'][kiva_loans_data['repayment_interval'] == 'weekly'].value_counts())\nprint(\"Genders count with repayment interval bullet\\n\",kiva_loans_data['sex_borrowers'][kiva_loans_data['repayment_interval'] == 'bullet'].value_counts())\nprint(\"Genders count with repayment interval irregular\\n\",kiva_loans_data['sex_borrowers'][kiva_loans_data['repayment_interval'] == 'irregular'].value_counts())\n\nsns.countplot(x=\"sex_borrowers\", hue='repayment_interval', data=kiva_loans_data).set_title('sex borrowers with repayment_intervals');",
      "execution_count": null,
      "outputs": []
    },
    {
      "metadata": {
        "_cell_guid": "cac69a40-010b-482f-86be-02519ce2e50e",
        "_uuid": "dc3af2ce9489f90d89601f0ad6a3c00efa86eb27",
        "trusted": false,
        "collapsed": true
      },
      "cell_type": "code",
      "source": "#Distribution of Kiva Field Partner Names with funding count\nprint(\"Top Kiva Field Partner Names with funding count : \", len(loan_themes_by_region_data[\"Field Partner Name\"].unique()))\nprint(loan_themes_by_region_data[\"Field Partner Name\"].value_counts().head(10))\nlender = loan_themes_by_region_data['Field Partner Name'].value_counts().head(40)\nplt.figure(figsize=(15,8))\nsns.barplot(lender.index, lender.values, alpha=0.9, color=color[0])\nplt.xticks(rotation='vertical', fontsize=14)\nplt.xlabel('Field Partner Name', fontsize=18)\nplt.ylabel('Funding count', fontsize=18)\nplt.title(\"Top Kiva Field Partner Names with funding count\", fontsize=25)\nplt.show()",
      "execution_count": null,
      "outputs": []
    },
    {
      "metadata": {
        "_cell_guid": "96244ec5-5c0a-4636-9f8b-7c8a413c5c34",
        "_uuid": "e0354baab45f9b7a5ea57bf3df838f300d03d54f",
        "trusted": false,
        "collapsed": true
      },
      "cell_type": "code",
      "source": "countries_funded_amount = kiva_loans_data.groupby('country').mean()['funded_amount'].sort_values(ascending = False)\nprint(\"Top Countries with funded_amount(Dollar value of loan funded on Kiva.org)(Mean values)\\n\",countries_funded_amount.head(10))",
      "execution_count": null,
      "outputs": []
    },
    {
      "metadata": {
        "_cell_guid": "62bee2da-60f7-432a-983d-6371cc83ae7a",
        "_uuid": "34e15dccba3d04a13cf322d933a9e639a2992690",
        "trusted": false,
        "collapsed": true
      },
      "cell_type": "code",
      "source": "data = [dict(\n        type='choropleth',\n        locations= countries_funded_amount.index,\n        locationmode='country names',\n        z=countries_funded_amount.values,\n        text=countries_funded_amount.index,\n        colorscale='Red',\n        marker=dict(line=dict(width=0.7)),\n        colorbar=dict(autotick=False, tickprefix='', title='Top Countries with funded_amount(Mean value)'),\n)]\nlayout = dict(title = 'Top Countries with funded_amount(Dollar value of loan funded on Kiva.org)',\n             geo = dict(\n            showframe = False,\n            #showcoastlines = False,\n            projection = dict(\n                type = 'Mercatorodes'\n            )\n        ),)\nfig = dict(data=data, layout=layout)\npy.iplot(fig, validate=False)",
      "execution_count": null,
      "outputs": []
    },
    {
      "metadata": {
        "_cell_guid": "24cdfdeb-9620-43bd-93c7-0c7941636e51",
        "_uuid": "074698def45f9b0ed6a26884bc119edf40698ac6",
        "trusted": false,
        "collapsed": true
      },
      "cell_type": "code",
      "source": "mpi_region_amount = round(loan_themes_by_region_data.groupby('mpi_region').mean()['amount'].sort_values(ascending = False))\nprint(\"Top mpi_region with amount(Dollar value of loans funded in particular LocationName)(Mean values)\\n\",mpi_region_amount.head(10))",
      "execution_count": null,
      "outputs": []
    },
    {
      "metadata": {
        "_cell_guid": "87c3143c-7489-480f-9e24-83089c361e0d",
        "_uuid": "c133e92d6089ece66535498aaf507466223038af",
        "trusted": false,
        "collapsed": true
      },
      "cell_type": "code",
      "source": "data = [dict(\n        type='choropleth',\n        locations= mpi_region_amount.index,\n        locationmode='country names',\n        z=mpi_region_amount.values,\n        text=mpi_region_amount.index,\n        colorscale='Red',\n        marker=dict(line=dict(width=0.7)),\n        colorbar=dict(autotick=False, tickprefix='', title='Top mpi_regions with amount(Mean value)'),\n)]\nlayout = dict(title = 'Top mpi_regions with amount(Dollar value of loans funded in particular LocationName)',\n             geo = dict(\n            showframe = False,\n            #showcoastlines = False,\n            projection = dict(\n                type = 'Mercatorodes'\n            )\n        ),)\nfig = dict(data=data, layout=layout)\npy.iplot(fig, validate=False)",
      "execution_count": null,
      "outputs": []
    },
    {
      "metadata": {
        "_cell_guid": "12364826-0638-45e9-9c6d-3342a63478cd",
        "_uuid": "a04132c05562c43106f8a6cc298f9dd78228a6b5",
        "trusted": false,
        "collapsed": true
      },
      "cell_type": "code",
      "source": "plt.figure(figsize=(15,8))\ncount = round(kiva_loans_data.groupby(['sector'])['loan_amount'].mean().sort_values(ascending=False))\nsns.barplot(count.values, count.index, )\nfor i, v in enumerate(count.values):\n    plt.text(0.8,i,v,color='k',fontsize=12)\nplt.xlabel('Average loan amount in Dollar', fontsize=20)\nplt.ylabel('Loan sector', fontsize=20)\nplt.title('Popular loan sector in terms of loan amount', fontsize=24)",
      "execution_count": null,
      "outputs": []
    },
    {
      "metadata": {
        "_cell_guid": "922cecd7-7ba1-420d-9d34-64beb06c2c3a",
        "_uuid": "9efdb2b6667d35e0055935d0aa1e521734ed6a98",
        "trusted": false,
        "collapsed": true
      },
      "cell_type": "code",
      "source": "plt.figure(figsize=(15,8))\ncount = round(kiva_loans_data.groupby(['activity'])['loan_amount'].mean().sort_values(ascending=False).head(20))\nsns.barplot(count.values, count.index, )\nfor i, v in enumerate(count.values):\n    plt.text(0.8,i,v,color='k',fontsize=12)\nplt.xlabel('Average loan amount in Dollar', fontsize=20)\nplt.ylabel('Loan sector', fontsize=20)\nplt.title('Popular loan activity in terms of loan amount', fontsize=24)",
      "execution_count": null,
      "outputs": []
    },
    {
      "metadata": {
        "_cell_guid": "8242afa3-0ec1-4d4b-a15d-47189c07c810",
        "_uuid": "31ad00d4ddd3a001dc60d66527a947ddf83bfa3d",
        "trusted": false,
        "collapsed": true
      },
      "cell_type": "code",
      "source": "plt.figure(figsize=(15,8))\ncount = round(kiva_loans_data.groupby(['country'])['loan_amount'].mean().sort_values(ascending=False).head(20))\nsns.barplot(count.values, count.index, )\nfor i, v in enumerate(count.values):\n    plt.text(0.8,i,v,color='k',fontsize=12)\nplt.xlabel('Average loan amount in Dollar', fontsize=20)\nplt.ylabel('Countries', fontsize=20)\nplt.title('Popular countries in terms of loan amount', fontsize=24)",
      "execution_count": null,
      "outputs": []
    },
    {
      "metadata": {
        "_cell_guid": "06329bdc-5bc5-4cbe-aed2-f131c09da39b",
        "_uuid": "f9f6f280701f945281b8dbb4fca3a82864b15ddf",
        "trusted": false,
        "collapsed": true
      },
      "cell_type": "code",
      "source": "plt.figure(figsize=(15,8))\ncount = round(kiva_loans_data.groupby(['region'])['loan_amount'].mean().sort_values(ascending=False).head(20))\nsns.barplot(count.values, count.index, )\nfor i, v in enumerate(count.values):\n    plt.text(0.8,i,v,color='k',fontsize=12)\nplt.xlabel('Average loan amount in Dollar', fontsize=20)\nplt.ylabel('regions(locations within countries)', fontsize=20)\nplt.title('Popular regions(locations within countries) in terms of loan amount', fontsize=24)",
      "execution_count": null,
      "outputs": []
    },
    {
      "metadata": {
        "_cell_guid": "19b5afaf-4721-48de-98af-1593b3576ef7",
        "_uuid": "a97c1c06b5c925618377e5d2357949503d08dc30",
        "trusted": false,
        "collapsed": true
      },
      "cell_type": "code",
      "source": "from wordcloud import WordCloud\n\nnames = kiva_loans_data[\"country\"][~pd.isnull(kiva_loans_data[\"country\"])]\n#print(names)\nwordcloud = WordCloud(max_font_size=50, width=600, height=300).generate(' '.join(names))\nplt.figure(figsize=(15,8))\nplt.imshow(wordcloud)\nplt.title(\"Wordcloud for country Names\", fontsize=35)\nplt.axis(\"off\")\nplt.show() ",
      "execution_count": null,
      "outputs": []
    },
    {
      "metadata": {
        "_cell_guid": "9a2c87a6-cf0a-4aff-b37e-a174f1ec3b56",
        "_uuid": "b02631cfd32e86c8b7368e98c510b422e1a4ed88",
        "trusted": false,
        "collapsed": true
      },
      "cell_type": "code",
      "source": "kiva_loans_data['date'] = pd.to_datetime(kiva_loans_data['date'])\nkiva_loans_data['date_month_year'] = kiva_loans_data['date'].dt.to_period(\"M\")\nplt.figure(figsize=(8,10))\ng1 = sns.pointplot(x='date_month_year', y='loan_amount', \n                   data=kiva_loans_data, hue='repayment_interval')\ng1.set_xticklabels(g1.get_xticklabels(),rotation=90)\ng1.set_title(\"Mean Loan by Month Year\", fontsize=15)\ng1.set_xlabel(\"\")\ng1.set_ylabel(\"Loan Amount\", fontsize=12)\nplt.show()",
      "execution_count": null,
      "outputs": []
    },
    {
      "metadata": {
        "_cell_guid": "d2002c2c-04b7-4f44-adcd-47fcee8abb7c",
        "_uuid": "5c78f40420280e0e3dc90806f80e74cc1e591446",
        "trusted": false,
        "collapsed": true
      },
      "cell_type": "code",
      "source": "kiva_loans_data['Century'] = kiva_loans_data.date.dt.year\nloan = kiva_loans_data.groupby(['country', 'Century'])['loan_amount'].mean().unstack()\nloan = loan.sort_values([2017], ascending=False)\nf, ax = plt.subplots(figsize=(15, 20)) \nloan = loan.fillna(0)\ntemp = sns.heatmap(loan, cmap='Reds')\nplt.show()",
      "execution_count": null,
      "outputs": []
    },
    {
      "metadata": {
        "_cell_guid": "cc0634aa-85f0-4119-824e-230ec0923cfe",
        "_uuid": "997aebac4fa45b9e5aa5c2d5df886b5b98da8452",
        "trusted": false,
        "collapsed": true
      },
      "cell_type": "code",
      "source": "sector_repayment = ['sector', 'repayment_interval']\ncm = sns.light_palette(\"red\", as_cmap=True)\npd.crosstab(kiva_loans_data[sector_repayment[0]], kiva_loans_data[sector_repayment[1]]).style.background_gradient(cmap = cm)",
      "execution_count": null,
      "outputs": []
    },
    {
      "metadata": {
        "_cell_guid": "751ac323-b547-48e8-8004-fefd55c5e738",
        "_uuid": "22937868f48e16c1362582acac814ccc46699b13",
        "trusted": false,
        "collapsed": true
      },
      "cell_type": "code",
      "source": "sector_repayment = ['country', 'repayment_interval']\ncm = sns.light_palette(\"red\", as_cmap=True)\npd.crosstab(kiva_loans_data[sector_repayment[0]], kiva_loans_data[sector_repayment[1]]).style.background_gradient(cmap = cm)",
      "execution_count": null,
      "outputs": []
    },
    {
      "metadata": {
        "_cell_guid": "b4d74097-892b-491a-bb19-edb23b227ac8",
        "_uuid": "d7bc3cd342d915057965c7c1b1872b44a7837b80",
        "trusted": false,
        "collapsed": true
      },
      "cell_type": "code",
      "source": "#Correlation Matrix\ncorr = kiva_loans_data.corr()\nplt.figure(figsize=(12,12))\nsns.heatmap(corr, \n            xticklabels=corr.columns.values,\n            yticklabels=corr.columns.values, annot=True, cmap='cubehelix', square=True)\nplt.title('Correlation between different features')\ncorr",
      "execution_count": null,
      "outputs": []
    },
    {
      "metadata": {
        "_cell_guid": "46ae6a5a-41c9-44b9-98ed-7af480436ad6",
        "_uuid": "d83b7a389efa197113885d2649c489976542209d",
        "trusted": false,
        "collapsed": true
      },
      "cell_type": "code",
      "source": "fig = plt.figure(figsize=(15,8))\nax=sns.kdeplot(kiva_loans_data['term_in_months'][kiva_loans_data['repayment_interval'] == 'monthly'] , color='b',shade=True, label='monthly')\nax=sns.kdeplot(kiva_loans_data['term_in_months'][kiva_loans_data['repayment_interval'] == 'weekly'] , color='r',shade=True, label='weekly')\nax=sns.kdeplot(kiva_loans_data['term_in_months'][kiva_loans_data['repayment_interval'] == 'irregular'] , color='g',shade=True, label='irregular')\nax=sns.kdeplot(kiva_loans_data['term_in_months'][kiva_loans_data['repayment_interval'] == 'bullet'] , color='y',shade=True, label='bullet')\nplt.title('Term in months(Number of months over which loan was scheduled to be paid back) vs Repayment intervals')\nax.set(xlabel='Terms in months', ylabel='Frequency')",
      "execution_count": null,
      "outputs": []
    },
    {
      "metadata": {
        "_cell_guid": "b678785d-d03c-43d2-bdce-775d0c3659ea",
        "_uuid": "d33b642d12af6eafc62d7be34472a24a907e83a7",
        "trusted": false,
        "collapsed": true
      },
      "cell_type": "code",
      "source": "temp = loan_themes_by_region_data['forkiva'].value_counts()\nlabels = temp.index\nsizes = (temp / temp.sum())*100\ntrace = go.Pie(labels=labels, values=sizes, hoverinfo='label+percent')\nlayout = go.Layout(title='Loan theme specifically for Kiva V.S. Loan theme not specifically for Kiva')\ndata = [trace]\nfig = go.Figure(data=data, layout=layout)\npy.iplot(fig)",
      "execution_count": null,
      "outputs": []
    },
    {
      "metadata": {
        "collapsed": true,
        "_cell_guid": "6e838b1a-1395-4e57-81fd-02e7166910c5",
        "_uuid": "cca480094b9e7726180b62ac5c16df2821c46950",
        "trusted": false
      },
      "cell_type": "code",
      "source": "kiva_loans_data.posted_time = pd.to_datetime(kiva_loans_data['posted_time'])\nkiva_loans_data.disbursed_time = pd.to_datetime(kiva_loans_data['disbursed_time'])\nkiva_loans_data.funded_time = pd.to_datetime(kiva_loans_data['funded_time'])",
      "execution_count": null,
      "outputs": []
    },
    {
      "metadata": {
        "_cell_guid": "0de16ef0-535f-48e5-a16a-86a9c7fc6f8f",
        "_uuid": "2a305ce33bf48fdf283da1b04a4cdacaeaf048ae",
        "trusted": false,
        "collapsed": true
      },
      "cell_type": "code",
      "source": "kiva_loans_data.index = pd.to_datetime(kiva_loans_data['posted_time'])\nplt.figure(figsize = (12, 8))\nax = kiva_loans_data['loan_amount'].resample('w').sum().plot()\nax = kiva_loans_data['funded_amount'].resample('w').sum().plot()\nax.set_ylabel('Amount ($)')\nax.set_xlabel('month-year')\nax.set_xlim((pd.to_datetime(kiva_loans_data['posted_time'].min()), \n             pd.to_datetime(kiva_loans_data['posted_time'].max())))\nax.legend([\"loan amount\", \"funded amount\"])\nplt.title('Trend of loan amount V.S. funded amount')\n\nplt.show()",
      "execution_count": null,
      "outputs": []
    },
    {
      "metadata": {
        "_cell_guid": "c82ff804-ca6f-4d99-9226-65e0c3a8849b",
        "_uuid": "fec897093b1f232797676ff94d6b9dc8ded5efa7",
        "trusted": false,
        "collapsed": true
      },
      "cell_type": "code",
      "source": "kiva_loans_data.index = pd.to_datetime(kiva_loans_data['posted_time'])\n\nkiva_loans_data['unfunded_amount'] = kiva_loans_data['loan_amount'] - kiva_loans_data['funded_amount']\nplt.figure(figsize = (12, 8))\nax = kiva_loans_data['unfunded_amount'].resample('w').sum().plot()\nax = kiva_loans_data['funded_amount'].resample('w').sum().plot()\nax.set_ylabel('Amount ($)')\nax.set_xlabel('month-year')\nax.set_xlim((pd.to_datetime(kiva_loans_data['posted_time'].min()), \n             pd.to_datetime(kiva_loans_data['posted_time'].max())))\nax.legend([\"unfunded amount\", \"funded amount\"])\nplt.title('Trend of unfunded amount V.S. funded amount')\n\nplt.show()",
      "execution_count": null,
      "outputs": []
    },
    {
      "metadata": {
        "_cell_guid": "18cc2ba0-a5f2-47a4-bc2c-93fca7bfda30",
        "_uuid": "e075c2cd7f3337bd57efe2e39e91f9f96347fbda",
        "trusted": false,
        "collapsed": true
      },
      "cell_type": "code",
      "source": "temp_data = kiva_loans_data.copy()\ntemp_data['count']= 1  #add 1 to each row so we can count number of loans \ndisbursed = temp_data.set_index(temp_data['disbursed_time'])\n#disbursed.head()\ndisbursed = disbursed.resample('10D').sum()\n\nposted = temp_data.set_index(temp_data['posted_time'])\nposted = posted.resample('10D').sum()\n\nfunded = temp_data.set_index(temp_data['funded_time'])\nfunded = funded.resample('10D').sum()\n\nplt.figure(figsize=(15,8))\nplt.plot(disbursed['count'], color='green', label='Disbursed to borrower', marker='o')\nplt.plot(posted['count'], color='red', label='Posted on kiva.org', marker='o')\nplt.plot(funded['count'], color='blue', label='Funded on kiva.org', marker='o')\nplt.legend(loc='down right')\nplt.title(\"Number of loans, in 10-day intervals\")\nplt.ylabel(\"Number of loans\")\nplt.show()",
      "execution_count": null,
      "outputs": []
    },
    {
      "metadata": {
        "_cell_guid": "bfde2bda-298a-4d13-823b-db95a98ab662",
        "_uuid": "8fc3feb42e7b2e665ea83a68ef0bb8b3ec3293fd",
        "trusted": false,
        "collapsed": true
      },
      "cell_type": "code",
      "source": "loan_use_in_india = kiva_loans_data['use'][kiva_loans_data['country'] == 'India']\npercentages = round(loan_use_in_india.value_counts() / len(loan_use_in_india) * 100, 2)[:13]\ntrace = go.Pie(labels=percentages.keys(), values=percentages.values, hoverinfo='label+percent', \n                textfont=dict(size=18, color='#000000'))\ndata = [trace]\nlayout = go.Layout(width=800, height=800, title='Top 13 loan uses in India',titlefont= dict(size=20), \n                   legend=dict(x=0.1,y=-5))\n\nfig = go.Figure(data=data, layout=layout)\noffline.iplot(fig, show_link=False)",
      "execution_count": null,
      "outputs": []
    },
    {
      "metadata": {
        "_cell_guid": "be711a35-e8d4-4751-a9cd-ef46a77bcd13",
        "_uuid": "fd36542428d1f6fb6f7bdd03b79dd3031fb055bc",
        "trusted": false,
        "collapsed": true
      },
      "cell_type": "code",
      "source": "temp = pd.DataFrame(loan_themes_by_region_data[loan_themes_by_region_data[\"country\"]=='India'])\ntemp.head()",
      "execution_count": null,
      "outputs": []
    },
    {
      "metadata": {
        "_cell_guid": "d7efa5bd-e0d6-47ac-87b8-5472932468d4",
        "_uuid": "322b1b518360290a9bccd66ebdb9e14de6cfe12b",
        "trusted": false,
        "collapsed": true
      },
      "cell_type": "code",
      "source": "# A table to show top 7 regions in India with higher funded amount\nprint(\"The top 7 regions in India with higher funded amount(Descending Order)\")\ntop_cities = temp.sort_values(by='amount',ascending=False)\ntop7_cities=top_cities.head(7)\ntop7_cities",
      "execution_count": null,
      "outputs": []
    },
    {
      "metadata": {
        "_cell_guid": "2017282c-c080-4cd1-b6e8-aad59d813006",
        "_uuid": "78a8cae53462bc7cbd3ca066842552f08b8634b7",
        "trusted": false,
        "collapsed": true
      },
      "cell_type": "code",
      "source": "# Plotting these Top 7 funded regions on India map. Circles are sized according to the \n# regions of the india\n\nplt.subplots(figsize=(20, 15))\nmap = Basemap(width=4500000,height=900000,projection='lcc',resolution='l',\n                    llcrnrlon=67,llcrnrlat=5,urcrnrlon=99,urcrnrlat=37,lat_0=28,lon_0=77)\n\nmap.drawmapboundary ()\nmap.drawcountries ()\nmap.drawcoastlines ()\n\nlg=array(top7_cities['lon'])\nlt=array(top7_cities['lat'])\npt=array(top7_cities['amount'])\nnc=array(top7_cities['region'])\n\nx, y = map(lg, lt)\npopulation_sizes = top7_cities[\"amount\"].apply(lambda x: int(x / 3000))\nplt.scatter(x, y, s=population_sizes, marker=\"o\", c=population_sizes, alpha=0.9)\n\n\nfor ncs, xpt, ypt in zip(nc, x, y):\n    plt.text(xpt+60000, ypt+30000, ncs, fontsize=20, fontweight='bold')\n\nplt.title('Top 7 funded regions in India',fontsize=30)",
      "execution_count": null,
      "outputs": []
    },
    {
      "metadata": {
        "_cell_guid": "f52cd369-11c4-4c07-812d-80b11aa1bb00",
        "_uuid": "70a3c82a4b2f31b80710b48f54c472a73291826d",
        "trusted": false,
        "collapsed": true
      },
      "cell_type": "code",
      "source": "temp = pd.DataFrame(loan_themes_by_region_data[loan_themes_by_region_data[\"country\"]=='India'])\nplt.figure(figsize=(15,8))\ncount = temp['Field Partner Name'].value_counts().head(10)\nsns.barplot(count.values, count.index)\nfor i, v in enumerate(count.values):\n    plt.text(0.8,i,v,color='k',fontsize=19)\nplt.xlabel('Count', fontsize=12)\nplt.ylabel('Most dominant field partner names in India', fontsize=12)\nplt.title(\"Most dominant field partner names in India with count\", fontsize=20)",
      "execution_count": null,
      "outputs": []
    },
    {
      "metadata": {
        "_cell_guid": "4fd14708-2e5a-4a85-82bf-cb4ce372b0d6",
        "_uuid": "1860b3080f82c9f10b89f0a5bf5914f0d15b392c",
        "trusted": false,
        "collapsed": true
      },
      "cell_type": "code",
      "source": "kiva_loans_data.index = pd.to_datetime(kiva_loans_data['funded_time'])\nplt.figure(figsize = (12, 8))\nax = kiva_loans_data[kiva_loans_data[\"country\"]=='India']['funded_time'].resample('w').count().plot()\nax.set_ylabel('count')\nax.set_xlabel('month-year')\nplt.title('Trend of loans in India')\n\nplt.show()",
      "execution_count": null,
      "outputs": []
    },
    {
      "metadata": {
        "_cell_guid": "70c8f215-99af-47ac-85ee-090005e49be3",
        "_uuid": "b53369a519b188981304b96cd8341138bf71b788",
        "trusted": false,
        "collapsed": true
      },
      "cell_type": "code",
      "source": "temp_data = kiva_loans_data.copy()\ntemp_data = temp_data[temp_data.country=='India']\ntemp_data['count']= 1  #add 1 to each row so we can count number of loans \ndisbursed = temp_data.set_index(temp_data['disbursed_time'])\n#disbursed.head()\ndisbursed = disbursed.resample('10D').sum()\n\nposted = temp_data.set_index(temp_data['posted_time'])\nposted = posted.resample('10D').sum()\n\nfunded = temp_data.set_index(temp_data['funded_time'])\nfunded = funded.resample('10D').sum()\n\nplt.figure(figsize=(15,8))\nplt.plot(disbursed['count'], color='green', label='Disbursed to borrower', marker='o')\nplt.plot(posted['count'], color='red', label='Posted on kiva.org', marker='o')\nplt.plot(funded['count'], color='blue', label='Funded on kiva.org', marker='o')\nplt.legend(loc='down right')\nplt.title(\"Number of loans, in 10-day intervals(India)\")\nplt.ylabel(\"Number of loans\")\nplt.show()",
      "execution_count": null,
      "outputs": []
    },
    {
      "metadata": {
        "_cell_guid": "9f26c21d-bf50-4c9d-ac8a-822a3200f2a9",
        "_uuid": "3f1d7ec73396d5fed7a516af3a986535c4da78a6",
        "trusted": false,
        "collapsed": true
      },
      "cell_type": "code",
      "source": "loan_use_in_Philippines = kiva_loans_data['use'][kiva_loans_data['country'] == 'Philippines']\npercentages = round(loan_use_in_Philippines.value_counts() / len(loan_use_in_Philippines) * 100, 2)[:13]\ntrace = go.Pie(labels=percentages.keys(), values=percentages.values, hoverinfo='label+percent', \n                textfont=dict(size=18, color='#000000'))\ndata = [trace]\nlayout = go.Layout(width=800, height=800, title='Top 13 loan uses in Philippines',titlefont= dict(size=20), \n                   legend=dict(x=0.1,y=-5))\n\nfig = go.Figure(data=data, layout=layout)\noffline.iplot(fig, show_link=False)",
      "execution_count": null,
      "outputs": []
    },
    {
      "metadata": {
        "_cell_guid": "cb0b5013-3c40-4fab-90e8-56c7bb708ac9",
        "_uuid": "7a9fe18019b33a561394b7a2d305695d0707cba3",
        "trusted": false,
        "collapsed": true
      },
      "cell_type": "code",
      "source": "temp = pd.DataFrame(loan_themes_by_region_data[loan_themes_by_region_data[\"country\"]=='Philippines'])\ntemp.head()",
      "execution_count": null,
      "outputs": []
    },
    {
      "metadata": {
        "_cell_guid": "7de3ddae-7906-4cda-80df-f246da4c3e19",
        "_uuid": "ad6a55cf991ed6bd5cd26e1bda2855a4e17a7b21",
        "trusted": false,
        "collapsed": true
      },
      "cell_type": "code",
      "source": "# A table to show top 7 regions in Philippines with higher funded amount\nprint(\"The top 7 regions in India with higher funded amount(Descending Order)\")\ntop_cities = temp.sort_values(by='amount',ascending=False)\ntop7_cities=top_cities.head(7)\ntop7_cities",
      "execution_count": null,
      "outputs": []
    },
    {
      "metadata": {
        "_cell_guid": "aa810d91-fcc3-4043-9b20-2753d1a20d2a",
        "_uuid": "77153731e4d1560a04212dd34e026c9530a4ac3c",
        "trusted": false,
        "collapsed": true
      },
      "cell_type": "code",
      "source": "temp = pd.DataFrame(loan_themes_by_region_data[loan_themes_by_region_data[\"country\"]=='Philippines'])\nplt.figure(figsize=(15,8))\ncount = temp['Field Partner Name'].value_counts().head(10)\nsns.barplot(count.values, count.index)\nfor i, v in enumerate(count.values):\n    plt.text(0.8,i,v,color='k',fontsize=19)\nplt.xlabel('Count', fontsize=12)\nplt.ylabel('Most dominant field partner names in Philippines', fontsize=12)\nplt.title(\"Most dominant field partner names in Philippines with count\", fontsize=20)",
      "execution_count": null,
      "outputs": []
    },
    {
      "metadata": {
        "_cell_guid": "2f71c7bf-46ef-485a-b367-a441e2976184",
        "_uuid": "fd20d18914d208fb3b3c52e5895cb8f3a97b2d61",
        "trusted": false,
        "collapsed": true
      },
      "cell_type": "code",
      "source": "kiva_loans_data.index = pd.to_datetime(kiva_loans_data['funded_time'])\nplt.figure(figsize = (12, 8))\nax = kiva_loans_data[kiva_loans_data[\"country\"]=='Philippines']['funded_time'].resample('w').count().plot()\nax.set_ylabel('count')\nax.set_xlabel('month-year')\nplt.title('Trend of loans in Philippines')\n\nplt.show()",
      "execution_count": null,
      "outputs": []
    },
    {
      "metadata": {
        "_cell_guid": "e6b3057b-6148-4be8-9c65-13f65599c90a",
        "_uuid": "0e365b509a00891fca1cec7e91872cead5a3568e",
        "trusted": false,
        "collapsed": true
      },
      "cell_type": "code",
      "source": "temp_data = kiva_loans_data.copy()\ntemp_data = temp_data[temp_data.country=='Philippines']\ntemp_data['count']= 1  #add 1 to each row so we can count number of loans \ndisbursed = temp_data.set_index(temp_data['disbursed_time'])\n#disbursed.head()\ndisbursed = disbursed.resample('10D').sum()\n\nposted = temp_data.set_index(temp_data['posted_time'])\nposted = posted.resample('10D').sum()\n\nfunded = temp_data.set_index(temp_data['funded_time'])\nfunded = funded.resample('10D').sum()\n\nplt.figure(figsize=(15,8))\nplt.plot(disbursed['count'], color='green', label='Disbursed to borrower', marker='o')\nplt.plot(posted['count'], color='red', label='Posted on kiva.org', marker='o')\nplt.plot(funded['count'], color='blue', label='Funded on kiva.org', marker='o')\nplt.legend(loc='down right')\nplt.title(\"Number of loans, in 10-day intervals(Philippines)\")\nplt.ylabel(\"Number of loans\")\nplt.show()",
      "execution_count": null,
      "outputs": []
    },
    {
      "metadata": {
        "_cell_guid": "ef10bdfe-f569-4da1-8720-425c01326cf6",
        "_uuid": "d66d889f15667c450a64080a14c629edd8196043",
        "trusted": false,
        "collapsed": true
      },
      "cell_type": "code",
      "source": "temp = loans_data['status'].value_counts()\nlabels = temp.index\nsizes = (temp / temp.sum())*100\ntrace = go.Pie(labels=labels, values=sizes, hoverinfo='label+percent')\nlayout = go.Layout(title='status of loans')\ndata = [trace]\nfig = go.Figure(data=data, layout=layout)\npy.iplot(fig)",
      "execution_count": null,
      "outputs": []
    },
    {
      "metadata": {
        "_cell_guid": "4024ac35-1778-4264-8f36-3197583039ee",
        "_uuid": "8fc79c843538827e0f1f79d992b480deb09ffdd5",
        "trusted": false,
        "collapsed": true
      },
      "cell_type": "code",
      "source": "temp = loans_data['distribution_model'].value_counts()\nlabels = temp.index\nsizes = (temp / temp.sum())*100\ntrace = go.Pie(labels=labels, values=sizes, hoverinfo='label+percent')\nlayout = go.Layout(title=' Distribution models of loans')\ndata = [trace]\nfig = go.Figure(data=data, layout=layout)\npy.iplot(fig)",
      "execution_count": null,
      "outputs": []
    },
    {
      "metadata": {
        "collapsed": true,
        "_cell_guid": "a3dec804-c3f2-4af2-b59b-64e2713ce676",
        "_uuid": "6b29ddfcbdeb8d4cb11faec629528b269577a122",
        "trusted": false
      },
      "cell_type": "code",
      "source": "import re\nfrom nltk.corpus import stopwords\n\nREPLACE_BY_SPACE_RE = re.compile('[/(){}\\[\\]\\|@,;]')\nBAD_SYMBOLS_RE = re.compile('[^0-9a-z #+_]')\nSTOPWORDS = set(stopwords.words('english'))\ndef text_prepare(text):\n    \"\"\"\n        text: a string\n        \n        return: modified initial string\n    \"\"\"\n    text = text.lower()# lowercase text  \n    text = REPLACE_BY_SPACE_RE.sub(' ',text)# replace REPLACE_BY_SPACE_RE symbols by space in text    \n    text = BAD_SYMBOLS_RE.sub('',text)# delete symbols which are in BAD_SYMBOLS_RE from text    \n    temp = [s.strip() for s in text.split() if s not in STOPWORDS]# delete stopwords from text\n    new_text = ''\n    for i in temp:\n        new_text +=i+' '\n    text = new_text\n    return text.strip()",
      "execution_count": null,
      "outputs": []
    },
    {
      "metadata": {
        "_cell_guid": "0a231877-2d44-4a26-a3d0-1033e636fcf5",
        "_uuid": "c388a8d229fa9fe9bd9c9c8e9398727d2f525ae9",
        "trusted": false,
        "collapsed": true
      },
      "cell_type": "code",
      "source": "# remove null value from column \"loan_because\"\ntemp_data = lenders_data.dropna(subset=['loan_because'])\n# convertinginto lowercase\ntemp_data['loan_because'] = temp_data['loan_because'].apply(lambda x: \" \".join(x.lower() for x in x.split()))\ntemp_data['loan_because'] = temp_data['loan_because'].map(text_prepare)\n\n\nfrom wordcloud import WordCloud\n\n#names = kiva_loans_data[\"country\"][~pd.isnull(kiva_loans_data[\"country\"])]\n#print(names)\nwordcloud = WordCloud(max_font_size=50, width=600, height=300).generate(' '.join(temp_data['loan_because'].values))\nplt.figure(figsize=(15,8))\nplt.imshow(wordcloud)\nplt.title(\"Top reasons to give loan\", fontsize=35)\nplt.axis(\"off\")\nplt.show() ",
      "execution_count": null,
      "outputs": []
    },
    {
      "metadata": {
        "_cell_guid": "0c6338b7-d74f-4f20-b5e9-d7b1d123e20d",
        "_uuid": "328bceaefb013ff32ae13b06354927c7699161fa",
        "trusted": false,
        "collapsed": true
      },
      "cell_type": "code",
      "source": "data = [ dict(\n        type = 'scattergeo',\n        lat = kiva_mpi_locations_data['lat'],\n        lon = kiva_mpi_locations_data['lon'],\n        text = kiva_mpi_locations_data['LocationName'],\n        marker = dict(\n             size = 10,\n             line = dict(\n                width=1,\n                color='rgba(102, 102, 102)'\n            ),\n            cmin = 0,\n            color = kiva_mpi_locations_data['MPI'],\n            cmax = kiva_mpi_locations_data['MPI'].max(),\n            colorbar=dict(\n                title=\"Multi-dimenstional Poverty Index\"\n            )\n        ))]\nlayout = dict(title = 'Multi-dimensional Poverty Index for different regions')\nfig = dict( data=data, layout=layout )\npy.iplot(fig)",
      "execution_count": null,
      "outputs": []
    },
    {
      "metadata": {
        "_cell_guid": "6c667526-baaf-4a7d-a454-b3e51194f170",
        "_uuid": "b69969437662379ce6c7a89f0d74057e09e80742",
        "trusted": false,
        "collapsed": true
      },
      "cell_type": "code",
      "source": "print(\"Top 10 countries with higher Human Development Index(HDI) \\n\")\ntemp = country_stats_data.sort_values(by =['hdi'], ascending = False)\ntemp[['country_name','hdi']].head(10)",
      "execution_count": null,
      "outputs": []
    },
    {
      "metadata": {
        "_cell_guid": "1ec5bd79-f2c1-4068-a27a-3e24be662f6c",
        "_uuid": "41533f79db7e73a70a825c05ae67e0e9ca7a6843",
        "trusted": false,
        "collapsed": true
      },
      "cell_type": "code",
      "source": "data = [dict(\n        type='choropleth',\n        locations= country_stats_data['country_name'],\n        locationmode='country names',\n        z=country_stats_data['hdi'],\n        text=country_stats_data['country_name'],\n        colorscale='Red',\n        marker=dict(line=dict(width=0.7)),\n        colorbar=dict(autotick=False, tickprefix='', title='Human Development Index(HDI)'),\n)]\nlayout = dict(title = 'Human Development Index(HDI) for different countries',)\nfig = dict(data=data, layout=layout)\npy.iplot(fig, validate=False)",
      "execution_count": null,
      "outputs": []
    },
    {
      "metadata": {
        "_cell_guid": "c866f9ac-85e5-45fe-bc39-cd47b76b8fd6",
        "_uuid": "a3048e3f7b0436fc7f90c408970f9c9307f2bebe",
        "trusted": false,
        "collapsed": true
      },
      "cell_type": "code",
      "source": "temp = country_stats_data.sort_values(by =['population_below_poverty_line'], ascending = False)\ntemp2 = temp[['country_name','population_below_poverty_line']]\ntemp1 = temp2.head(10)\nplt.figure(figsize = (15, 10))\nsns.barplot(temp1['population_below_poverty_line'], temp1['country_name'])\nfor i, v in enumerate(temp1['population_below_poverty_line']):\n    plt.text(0.8,i,v,color='k',fontsize=10)\nplt.xlabel('population_below_poverty_line in %', fontsize=12)\nplt.ylabel('country_name', fontsize=12)\nplt.title(\"population below poverty line for different countries in % \", fontsize=20)",
      "execution_count": null,
      "outputs": []
    },
    {
      "metadata": {
        "_cell_guid": "033c0d70-fece-4cfb-bdfb-11e7c47d4304",
        "_uuid": "edc5d251884e6ab44ef28b124ee6e4e93959e40b",
        "trusted": false,
        "collapsed": true
      },
      "cell_type": "code",
      "source": "data = [dict(\n        type='choropleth',\n        locations= country_stats_data['country_name'],\n        locationmode='country names',\n        z=country_stats_data['population_below_poverty_line'],\n        text=country_stats_data['country_name'],\n        colorscale='Red',\n        marker=dict(line=dict(width=0.7)),\n        colorbar=dict(autotick=False, tickprefix='', title='population_below_poverty_line in %'),\n)]\nlayout = dict(title = 'Population below poverty line for different countries in % ',)\nfig = dict(data=data, layout=layout)\npy.iplot(fig, validate=False)",
      "execution_count": null,
      "outputs": []
    },
    {
      "metadata": {
        "_cell_guid": "74841bb8-68e9-4ed1-b4ca-d94b81284fcc",
        "_uuid": "b6c63de7526dc497283ff3f2bd5ebe70bba5749e",
        "trusted": false,
        "collapsed": true
      },
      "cell_type": "code",
      "source": "populated_countries = country_stats_data.sort_values(by='population', ascending=False)[:25]\n\ndata = [go.Scatter(\n    y = populated_countries['hdi'],\n    x = populated_countries['population_below_poverty_line'],\n    mode='markers+text',\n    marker=dict(\n        size= np.log(populated_countries.population) - 2,\n        color=populated_countries['hdi'],\n        colorscale='Portland',\n        showscale=True\n    ),\n    text=populated_countries['country_name'],\n    textposition=[\"top center\"]\n)]\nlayout = go.Layout(\n    title='population below poverty line V.S. HDI',\n    xaxis= dict(title='population below poverty line in %'),\n    yaxis=dict(title='HDI')\n)\nfig = go.Figure(data=data, layout=layout)\npy.iplot(fig)",
      "execution_count": null,
      "outputs": []
    },
    {
      "metadata": {
        "_cell_guid": "35593733-2494-4fea-95bf-ee121f7020b9",
        "_uuid": "725a7257847cd31114f8145857c1ba1f23181ca6",
        "trusted": false,
        "collapsed": true
      },
      "cell_type": "code",
      "source": "temp = country_stats_data.sort_values(by =['life_expectancy'], ascending = False)\ntemp2 = temp[['country_name','life_expectancy']]\ntemp1 = temp2.head(20)\nplt.figure(figsize = (15, 10))\nsns.barplot(temp1['life_expectancy'], temp1['country_name'])\nfor i, v in enumerate(temp1['life_expectancy']):\n    plt.text(0.8,i,v,color='k',fontsize=10)\nplt.xlabel('life_expectancy in years', fontsize=12)\nplt.ylabel('country_name', fontsize=12)\nplt.title(\"life_expectancy for different countries in years \", fontsize=20)",
      "execution_count": null,
      "outputs": []
    },
    {
      "metadata": {
        "_cell_guid": "0f831390-a968-4c49-95e7-efa2c52fa385",
        "_uuid": "ce8264eca888c029af0d2ecb33ff1f1a93f691b5",
        "trusted": false,
        "collapsed": true
      },
      "cell_type": "code",
      "source": "mpi_national_data = mpi_national_data.sort_values(by=['MPI Rural'], ascending=False).head(30)\n\nmpi_national_urban = mpi_national_data[['Country', 'MPI Urban']]\nmpi_national_urban.rename(columns={'MPI Urban':'MPI'}, inplace=True)\nmpi_national_urban['sign'] = 'MPI Urban'\n\nmpi_national_rural = mpi_national_data[['Country', 'MPI Rural']]\nmpi_national_rural.rename(columns={'MPI Rural':'MPI'}, inplace=True)\nmpi_national_rural['sign'] = 'MPI Rural'\n\nmpi_urban_rural = mpi_national_urban.append(mpi_national_rural)\n#mpi_urban_rural.head()\nsns.factorplot(x='Country', y='MPI', hue='sign', data=mpi_urban_rural, kind='bar', size=8, aspect=2.5)\nplt.xticks(rotation=90, size = 20)\nplt.title(\"Top 30 countries with higher rural MPI's along with urban MPI's\", size = 30)\nplt.xlabel('Country', fontsize=30)\nplt.ylabel('MPI', fontsize=30)",
      "execution_count": null,
      "outputs": []
    },
    {
      "metadata": {
        "_cell_guid": "6303dc66-abb6-4fe6-8851-7b182dfb8ce1",
        "_uuid": "dc8bd6a8779157aaae5304acc877168c38f89525",
        "trusted": false,
        "collapsed": true
      },
      "cell_type": "code",
      "source": "mpi_national_data = mpi_national_data.sort_values(by=['Headcount Ratio Rural'], ascending=False).head(30)\n\nmpi_national_urban = mpi_national_data[['Country', 'Headcount Ratio Rural']]\nmpi_national_urban.rename(columns={'Headcount Ratio Rural':'Headcount Ratio'}, inplace=True)\nmpi_national_urban['sign'] = 'Headcount Ratio Rural'\n\nmpi_national_rural = mpi_national_data[['Country', 'Headcount Ratio Urban']]\nmpi_national_rural.rename(columns={'Headcount Ratio Urban':'Headcount Ratio'}, inplace=True)\nmpi_national_rural['sign'] = 'Headcount Ratio Urban'\n\nmpi_urban_rural = mpi_national_urban.append(mpi_national_rural)\n#mpi_urban_rural.head()\nsns.factorplot(x='Country', y='Headcount Ratio', hue='sign', data=mpi_urban_rural, kind='bar', size=8, aspect=2.5)\nplt.xticks(rotation=90, size = 20)\nplt.title(\"Top 30 countries with higher rural Headcount Ratio along with urban Headcount Ratio\", size = 30)\nplt.xlabel('Country', fontsize=30)\nplt.ylabel('Headcount Ratio', fontsize=30)",
      "execution_count": null,
      "outputs": []
    },
    {
      "metadata": {
        "_cell_guid": "993d0b6b-9723-4885-a5ea-f7b371928fb6",
        "_uuid": "4e22102fffa394fec7bc5cacea9a0d8e49eda6a8",
        "trusted": false,
        "collapsed": true
      },
      "cell_type": "code",
      "source": "mpi_national_data = mpi_national_data.sort_values(by=['Intensity of Deprivation Rural'], ascending=False).head(30)\n\nmpi_national_urban = mpi_national_data[['Country', 'Intensity of Deprivation Rural']]\nmpi_national_urban.rename(columns={'Intensity of Deprivation Rural':'Intensity of Deprivation'}, inplace=True)\nmpi_national_urban['sign'] = 'Intensity of Deprivation Rural'\n\nmpi_national_rural = mpi_national_data[['Country', 'Intensity of Deprivation Urban']]\nmpi_national_rural.rename(columns={'Intensity of Deprivation Urban':'Intensity of Deprivation'}, inplace=True)\nmpi_national_rural['sign'] = 'Intensity of Deprivation Urban'\n\nmpi_urban_rural = mpi_national_urban.append(mpi_national_rural)\n#mpi_urban_rural.head()\nsns.factorplot(x='Country', y='Intensity of Deprivation', hue='sign', data=mpi_urban_rural, kind='bar', size=8, aspect=2.5)\nplt.xticks(rotation=90, size = 20)\nplt.title(\"Top 30 countries with higher Intensity of Deprivation along with urban Intensity of Deprivation\", size = 30)\nplt.xlabel('Country', fontsize=30)\nplt.ylabel('Intensity of Deprivation', fontsize=30)",
      "execution_count": null,
      "outputs": []
    },
    {
      "metadata": {
        "_cell_guid": "1f4592a5-c144-4798-8f1e-835695f09fcd",
        "_uuid": "46a982aba59e332a88406878cace7372c52229ab"
      },
      "cell_type": "markdown",
      "source": "**SUMMARY**"
    },
    {
      "metadata": {
        "_cell_guid": "72b24ac3-9f27-4685-9892-3edd41153884",
        "_uuid": "dc934dc34616bf8849e8b3d0bec0e158b3b909f6"
      },
      "cell_type": "markdown",
      "source": "Agriculture Sector is more frequent in terms of number of loans followed by Food.\n\nTypes of interval payments monthly, irregular, bullet and weekly. Out of which monthly is more frequent and weekly is less frequent.\n\nPhilippines is most frequent countries who got more loans followed by Kenya.\n\nWeekly repayment interval loan had taken by only Kenya country.\n\nIn world region, sub-Saharan Africa got more number of loans.\n\nNumber of lenders contributing to loan(lender_count) is 8 whose count is high followed by 7 and 9.\n\nTop 2 loan activity which got more number of funded are Farming and general Store.\n\nOut of 302 Kiva Field Partners , Alalay sa Kaunlaran (ASKI) did higher number of funding followed by SEF International and Gata Daku Multi-purpose Cooperative (GDMPC).\n\n14 months over which loan was scheduled to be paid back have taken higher times followed by 8 and 11.\n\nThe average amount is funded more by Male than Female.\n\nApprox. 80 % borrower are Female and approx. 20 % borrowers are Male.\n\nThere are more Females with monthly reapyment_interval than Males.\n\nThere are more Males with irregular reapyment_interval than Females.\n\nEntertainment sector is taking more loan followed by Wholesale.\n\nThe most popular activities are Technology and Landscaping/Gardening in terms of loans amount followed by Communications.\n\nCote D'lvoire is More popular country who is taking more amount of loans followed by Mauritania.\n\nRegions(locations within countries) i.e, Juba, Tsihombe, Musoma, Cerrik, Kolia, Parakou and Simeulue are most popular regions who are taking more loans.\n\nRepayment intervals bullet had taken more loan amount throught out the years.\n\nIn 2017, Cote D'lvoire and Benin had taken more amount of loan and in 2016, South sudan had taken.\n\nTop mpi_regions who got more funding is Itasy, Madagascar followed by Kaduna, Nigeria.\n\nIn only 16 % loans, loan theme was specifically created for Kiva.\n\nMost popupar use of loan is to buy a water filter to provide safe drinking water for their family.\n\nMost of the loan amount were Disbursed to borrower at 2nd month of year ie. 2nd month of 2014, 2015, 2016 and 2017 despite not being fully funded yet.\n\nIndia :\n\nTop use of loan in india is to buy a smokeless stove followed by to expand her tailoring business by purchasing cloth materials and a sewing machine.\nMost dominant field partner in India is Milaap.\n\nTop 3 funded regions in India :\nSurendranagar\nNadia\nDahod\n\nPhilippines :\n\nTop use of loan in Philippines is to to build a sanitary toilet for her family.\nMost dominant field partner in Philippines is ASKI.\n\nTop 3 funded regions in Philippines :\nBais\nKabankalan\nQuezon\n\n99 % loans were disrtributed through field partners.\n\nCountry level Analysis for understanding povertry level :\nTop 3 countries with higher Human Development Index(HDI) are Norway, Switzerland and Australia according to this data.\nOut of all countries, Top most country is Syria who is population below poverty line followed by Zimbabwe.\nLife expectancy of Hong kong is higher than other countries followed by japan\nTop most country is Niger with higher Urban MPI and Intensity of Deprivation.(Focused on rural area)\nTop most country is Somalia with higher rural headcount ratio.(Focused on rural area)"
    },
    {
      "metadata": {
        "collapsed": true,
        "_cell_guid": "f76bc3f8-0762-47ee-b14a-2837b2c8ff41",
        "_uuid": "4e47130308af7ea0fdf4566547dcf4059c8263ac",
        "trusted": false
      },
      "cell_type": "code",
      "source": "",
      "execution_count": null,
      "outputs": []
    }
  ],
  "metadata": {
    "language_info": {
      "nbconvert_exporter": "python",
      "name": "python",
      "file_extension": ".py",
      "codemirror_mode": {
        "version": 3,
        "name": "ipython"
      },
      "mimetype": "text/x-python",
      "pygments_lexer": "ipython3",
      "version": "3.6.4"
    },
    "kernelspec": {
      "display_name": "Python 3",
      "language": "python",
      "name": "python3"
    }
  },
  "nbformat": 4,
  "nbformat_minor": 1
}